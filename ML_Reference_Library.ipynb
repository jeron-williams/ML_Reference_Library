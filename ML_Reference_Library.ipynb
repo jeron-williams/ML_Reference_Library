{
  "cells": [
    {
      "cell_type": "markdown",
      "metadata": {
        "id": "view-in-github",
        "colab_type": "text"
      },
      "source": [
        "<a href=\"https://colab.research.google.com/github/jeron-williams/ML_Reference_Library/blob/main/ML_Reference_Library.ipynb\" target=\"_parent\"><img src=\"https://colab.research.google.com/assets/colab-badge.svg\" alt=\"Open In Colab\"/></a>"
      ]
    },
    {
      "cell_type": "markdown",
      "id": "335c382d",
      "metadata": {
        "id": "335c382d"
      },
      "source": [
        "# 🧠 Machine Learning Reference Library (Python Edition)\n",
        "**Purpose**: This notebook serves as a comprehensive reference for key machine learning concepts, models, algorithms, and equations using Python. It is designed for fast lookup, project support, and practical implementation within Google Colab."
      ]
    },
    {
      "cell_type": "markdown",
      "id": "5bb83325",
      "metadata": {
        "id": "5bb83325"
      },
      "source": [
        "## 📚 Table of Contents\n",
        "- [1. Data Preprocessing](#1)\n",
        "- [2. Supervised Learning](#2)\n",
        "- [3. Unsupervised Learning](#3)\n",
        "- [4. Model Evaluation Metrics](#4)\n",
        "- [5. Feature Engineering](#5)\n",
        "- [6. Mathematical Foundations](#6)\n",
        "- [7. Model Deployment (Optional)](#7)\n",
        "- [8. Utility Functions](#8)"
      ]
    },
    {
      "cell_type": "markdown",
      "id": "06de5705",
      "metadata": {
        "id": "06de5705"
      },
      "source": [
        "## 📦 1. Data Preprocessing"
      ]
    },
    {
      "cell_type": "markdown",
      "id": "f0e82a68",
      "metadata": {
        "id": "f0e82a68"
      },
      "source": [
        "### 🔹 1.1 Import Libraries"
      ]
    },
    {
      "cell_type": "code",
      "execution_count": null,
      "id": "5b79695e",
      "metadata": {
        "id": "5b79695e"
      },
      "outputs": [],
      "source": [
        "import numpy as np\n",
        "import pandas as pd\n",
        "import matplotlib.pyplot as plt\n",
        "import seaborn as sns\n",
        "from sklearn.model_selection import train_test_split"
      ]
    },
    {
      "cell_type": "markdown",
      "id": "a0bfa07b",
      "metadata": {
        "id": "a0bfa07b"
      },
      "source": [
        "### 🔹 1.2 Handle Missing Values"
      ]
    },
    {
      "cell_type": "code",
      "execution_count": null,
      "id": "ad3dc170",
      "metadata": {
        "id": "ad3dc170"
      },
      "outputs": [],
      "source": [
        "# Drop missing\n",
        "df = df.dropna()\n",
        "\n",
        "# Fill missing with mean\n",
        "df['column_name'] = df['column_name'].fillna(df['column_name'].mean())"
      ]
    },
    {
      "cell_type": "markdown",
      "id": "e481e9af",
      "metadata": {
        "id": "e481e9af"
      },
      "source": [
        "### 🔹 1.3 Encode Categorical Features"
      ]
    },
    {
      "cell_type": "code",
      "execution_count": null,
      "id": "3f934ba2",
      "metadata": {
        "id": "3f934ba2"
      },
      "outputs": [],
      "source": [
        "# Label Encoding\n",
        "from sklearn.preprocessing import LabelEncoder\n",
        "le = LabelEncoder()\n",
        "df['encoded'] = le.fit_transform(df['category'])\n",
        "\n",
        "# One-Hot Encoding\n",
        "df = pd.get_dummies(df, columns=['category'])"
      ]
    },
    {
      "cell_type": "markdown",
      "id": "086cd7f1",
      "metadata": {
        "id": "086cd7f1"
      },
      "source": [
        "## 🧮 2. Supervised Learning"
      ]
    },
    {
      "cell_type": "markdown",
      "id": "3785c706",
      "metadata": {
        "id": "3785c706"
      },
      "source": [
        "### 🔹 2.1 Linear Regression"
      ]
    },
    {
      "cell_type": "code",
      "execution_count": null,
      "id": "4a8644e3",
      "metadata": {
        "id": "4a8644e3"
      },
      "outputs": [],
      "source": [
        "from sklearn.linear_model import LinearRegression\n",
        "model = LinearRegression()\n",
        "model.fit(X_train, y_train)\n",
        "y_pred = model.predict(X_test)"
      ]
    },
    {
      "cell_type": "markdown",
      "id": "907256dc",
      "metadata": {
        "id": "907256dc"
      },
      "source": [
        "### 🔹 2.2 Decision Tree Classifier"
      ]
    },
    {
      "cell_type": "code",
      "execution_count": null,
      "id": "1c8aae1a",
      "metadata": {
        "id": "1c8aae1a"
      },
      "outputs": [],
      "source": [
        "from sklearn.tree import DecisionTreeClassifier\n",
        "clf = DecisionTreeClassifier(max_depth=3, random_state=42)\n",
        "clf.fit(X_train, y_train)"
      ]
    },
    {
      "cell_type": "markdown",
      "id": "d55e20b2",
      "metadata": {
        "id": "d55e20b2"
      },
      "source": [
        "### 🔹 2.3 Random Forest Regressor"
      ]
    },
    {
      "cell_type": "code",
      "execution_count": null,
      "id": "5c74c4c4",
      "metadata": {
        "id": "5c74c4c4"
      },
      "outputs": [],
      "source": [
        "from sklearn.ensemble import RandomForestRegressor\n",
        "rf = RandomForestRegressor(n_estimators=100, random_state=42)\n",
        "rf.fit(X_train, y_train)"
      ]
    },
    {
      "cell_type": "markdown",
      "id": "bf6443f4",
      "metadata": {
        "id": "bf6443f4"
      },
      "source": [
        "### 🔹 2.4 Logistic Regression"
      ]
    },
    {
      "cell_type": "code",
      "execution_count": null,
      "id": "79302bc9",
      "metadata": {
        "id": "79302bc9"
      },
      "outputs": [],
      "source": [
        "from sklearn.linear_model import LogisticRegression\n",
        "log_reg = LogisticRegression()\n",
        "log_reg.fit(X_train, y_train)"
      ]
    },
    {
      "cell_type": "markdown",
      "id": "33cf17c5",
      "metadata": {
        "id": "33cf17c5"
      },
      "source": [
        "## 🌀 3. Unsupervised Learning"
      ]
    },
    {
      "cell_type": "markdown",
      "id": "5d41bd48",
      "metadata": {
        "id": "5d41bd48"
      },
      "source": [
        "### 🔹 3.1 K-Means Clustering"
      ]
    },
    {
      "cell_type": "code",
      "execution_count": null,
      "id": "c46ec411",
      "metadata": {
        "id": "c46ec411"
      },
      "outputs": [],
      "source": [
        "from sklearn.cluster import KMeans\n",
        "kmeans = KMeans(n_clusters=3)\n",
        "kmeans.fit(X)"
      ]
    },
    {
      "cell_type": "markdown",
      "id": "87101cdd",
      "metadata": {
        "id": "87101cdd"
      },
      "source": [
        "### 🔹 3.2 Principal Component Analysis (PCA)"
      ]
    },
    {
      "cell_type": "code",
      "execution_count": null,
      "id": "59490076",
      "metadata": {
        "id": "59490076"
      },
      "outputs": [],
      "source": [
        "from sklearn.decomposition import PCA\n",
        "pca = PCA(n_components=2)\n",
        "X_pca = pca.fit_transform(X)"
      ]
    },
    {
      "cell_type": "markdown",
      "id": "e22c9c5c",
      "metadata": {
        "id": "e22c9c5c"
      },
      "source": [
        "## 📈 4. Model Evaluation Metrics"
      ]
    },
    {
      "cell_type": "markdown",
      "id": "e773e906",
      "metadata": {
        "id": "e773e906"
      },
      "source": [
        "### 🔹 4.1 Classification Metrics"
      ]
    },
    {
      "cell_type": "code",
      "execution_count": null,
      "id": "86d3efe0",
      "metadata": {
        "id": "86d3efe0"
      },
      "outputs": [],
      "source": [
        "from sklearn.metrics import accuracy_score, precision_score, recall_score, f1_score\n",
        "accuracy_score(y_test, y_pred)"
      ]
    },
    {
      "cell_type": "markdown",
      "id": "8ef30eaf",
      "metadata": {
        "id": "8ef30eaf"
      },
      "source": [
        "### 🔹 4.2 Regression Metrics"
      ]
    },
    {
      "cell_type": "code",
      "execution_count": null,
      "id": "69de1452",
      "metadata": {
        "id": "69de1452"
      },
      "outputs": [],
      "source": [
        "from sklearn.metrics import mean_squared_error, r2_score\n",
        "mse = mean_squared_error(y_test, y_pred)\n",
        "r2 = r2_score(y_test, y_pred)"
      ]
    },
    {
      "cell_type": "markdown",
      "id": "b053c3c2",
      "metadata": {
        "id": "b053c3c2"
      },
      "source": [
        "## 🛠️ 5. Feature Engineering"
      ]
    },
    {
      "cell_type": "markdown",
      "id": "f915169c",
      "metadata": {
        "id": "f915169c"
      },
      "source": [
        "### 🔹 5.1 Scaling and Normalization"
      ]
    },
    {
      "cell_type": "code",
      "execution_count": null,
      "id": "a5f513ab",
      "metadata": {
        "id": "a5f513ab"
      },
      "outputs": [],
      "source": [
        "from sklearn.preprocessing import StandardScaler, MinMaxScaler\n",
        "scaler = StandardScaler()\n",
        "X_scaled = scaler.fit_transform(X)"
      ]
    },
    {
      "cell_type": "markdown",
      "id": "2e97465b",
      "metadata": {
        "id": "2e97465b"
      },
      "source": [
        "### 🔹 5.2 Polynomial Features"
      ]
    },
    {
      "cell_type": "code",
      "execution_count": null,
      "id": "889ff0f0",
      "metadata": {
        "id": "889ff0f0"
      },
      "outputs": [],
      "source": [
        "from sklearn.preprocessing import PolynomialFeatures\n",
        "poly = PolynomialFeatures(degree=2)\n",
        "X_poly = poly.fit_transform(X)"
      ]
    },
    {
      "cell_type": "markdown",
      "id": "6039f868",
      "metadata": {
        "id": "6039f868"
      },
      "source": [
        "## 🧾 6. Mathematical Foundations"
      ]
    },
    {
      "cell_type": "markdown",
      "id": "96dcfc10",
      "metadata": {
        "id": "96dcfc10"
      },
      "source": [
        "### 🔹 6.1 Mean Squared Error (MSE)\n",
        "$$\n",
        "\\text{MSE} = \\frac{1}{n} \\sum_{i=1}^{n}(y_i - \\hat{y}_i)^2\n",
        "$$"
      ]
    },
    {
      "cell_type": "markdown",
      "id": "08899518",
      "metadata": {
        "id": "08899518"
      },
      "source": [
        "### 🔹 6.2 Gradient Descent for Linear Regression"
      ]
    },
    {
      "cell_type": "code",
      "execution_count": null,
      "id": "408ce87b",
      "metadata": {
        "id": "408ce87b"
      },
      "outputs": [],
      "source": [
        "def gradient_descent(X, y, lr=0.01, epochs=100):\n",
        "    m = X.shape[0]\n",
        "    w = np.zeros(X.shape[1])\n",
        "    b = 0\n",
        "    for _ in range(epochs):\n",
        "        y_pred = np.dot(X, w) + b\n",
        "        dw = -(2/m) * np.dot(X.T, (y - y_pred))\n",
        "        db = -(2/m) * np.sum(y - y_pred)\n",
        "        w -= lr * dw\n",
        "        b -= lr * db\n",
        "    return w, b"
      ]
    },
    {
      "cell_type": "markdown",
      "id": "ff03c3d3",
      "metadata": {
        "id": "ff03c3d3"
      },
      "source": [
        "### 🔹 6.3 Entropy & Gini Index\n",
        "$$\n",
        "\\text{Entropy}(S) = - \\sum p_i \\log_2(p_i)\n",
        "\\quad\n",
        "\\text{Gini}(S) = 1 - \\sum p_i^2\n",
        "$$"
      ]
    },
    {
      "cell_type": "markdown",
      "id": "06ee4834",
      "metadata": {
        "id": "06ee4834"
      },
      "source": [
        "## 🚀 7. Model Deployment (Optional)"
      ]
    },
    {
      "cell_type": "markdown",
      "id": "ae9ba9fe",
      "metadata": {
        "id": "ae9ba9fe"
      },
      "source": [
        "### 🔹 Export Model"
      ]
    },
    {
      "cell_type": "code",
      "execution_count": null,
      "id": "0aed2c98",
      "metadata": {
        "id": "0aed2c98"
      },
      "outputs": [],
      "source": [
        "import joblib\n",
        "joblib.dump(model, 'model.pkl')"
      ]
    },
    {
      "cell_type": "markdown",
      "id": "35d2a5a8",
      "metadata": {
        "id": "35d2a5a8"
      },
      "source": [
        "### 🔹 Load Model"
      ]
    },
    {
      "cell_type": "code",
      "execution_count": null,
      "id": "82845da5",
      "metadata": {
        "id": "82845da5"
      },
      "outputs": [],
      "source": [
        "model = joblib.load('model.pkl')"
      ]
    },
    {
      "cell_type": "markdown",
      "id": "833d6bb4",
      "metadata": {
        "id": "833d6bb4"
      },
      "source": [
        "## 🔧 8. Utility Functions"
      ]
    },
    {
      "cell_type": "code",
      "execution_count": null,
      "id": "5e9a8801",
      "metadata": {
        "id": "5e9a8801"
      },
      "outputs": [],
      "source": [
        "def summarize_dataframe(df):\n",
        "    print(\"Shape:\", df.shape)\n",
        "    print(\"Data types:\\n\", df.dtypes)\n",
        "    print(\"Missing values:\\n\", df.isnull().sum())\n",
        "    print(\"First 5 rows:\\n\", df.head())"
      ]
    }
  ],
  "metadata": {
    "colab": {
      "provenance": [],
      "toc_visible": true,
      "include_colab_link": true
    }
  },
  "nbformat": 4,
  "nbformat_minor": 5
}